{
 "cells": [
  {
   "cell_type": "markdown",
   "metadata": {},
   "source": [
    "# ម៉ូឌែលតម្រែតម្រង់លីនេអ៊ែរ(១)\n",
    "\n",
    "ការសិក្សាលើម៉ូឌែលនៃបាតុភូត អាចឱ្យគេរកឃើញពីមូលហេតុឬកត្តាទាក់ទងនៃបាតុភូតនោះបាន។លើសពីនេះគេក៏អាចប្រើប្រាស់ម៉ូឌែលនោះសម្រាប់ការទស្សន៍ទាយសម្រាប់អនាគតឬការប៉ាន់ស្មានលើទិន្នន័យដែលមិនមានក្នុងដៃ។ \n",
    "\n",
    "ជាទូទៅម៉ូឌែលដែលសិក្សាអំពីទំនាក់ទំនងរវាងលទ្ធផលនៃបាតុភូតមួយនិងកត្តាដែលអាចគិតបានថាជាកត្តាជះឥទ្ធិពលលើលទ្ធផលនោះ ហៅថា ម៉ូឌែលតម្រែតម្រង់ (Regression Model)។ \n",
    "\n",
    "ក្នុងផ្នែកនេះយើងនឹងសិក្សាអំពីម៉ូឌែលមានទម្រង់ជាលីនេអ៊ែរដែលជាមូលដ្ឋាននៃម៉ូឌែលតម្រែតម្រង់។\n",
    "\n",
    "\n",
    "## ការសិក្សាលើទំនាក់ទំនងរវាង២អថេរ\n",
    "\n",
    "ជាឧទាហរណ៍យើងលើកយកការសិក្សារវាងទំនាក់ទំនងរវាងកម្ពស់(cm)និងម៉ាស(kg)តាមរយៈម៉ូឌែលតម្រែតម្រង់លីនេអ៊ែរ។\n",
    "\n",
    "|    <br>កម្ពស់(cm)    \t|    <br>152    \t|    <br>157    \t|    <br>160    \t|    <br>163    \t|    <br>150    \t|    <br>147    \t|    <br>165    \t|    <br>168    \t|    <br>178    \t|\n",
    "|-\t|-\t|-\t|-\t|-\t|-\t|-\t|-\t|-\t|-\t|\n",
    "|    <br>ម៉ាស(kg)    \t|    <br>54.48    \t|    <br>55.84    \t|    <br>57.20    \t|    <br>58.57    \t|    <br>53.12    \t|    <br>52.21    \t|    <br>59.93    \t|    <br>61.29    \t|    <br>69.92    \t|"
   ]
  },
  {
   "cell_type": "markdown",
   "metadata": {},
   "source": []
  },
  {
   "cell_type": "code",
   "execution_count": 1,
   "metadata": {},
   "outputs": [],
   "source": [
    "import matplotlib.pyplot as plt\n",
    "import numpy as np\n",
    "plt.ion()"
   ]
  },
  {
   "cell_type": "code",
   "execution_count": 2,
   "metadata": {},
   "outputs": [],
   "source": [
    "X = np.array([152,157,160,163,150,147,165,168,170])\n",
    "y = np.array([54.48,55.84,57.20,56.57,53.12,52.21,59.93,61.29,67.92])"
   ]
  },
  {
   "cell_type": "code",
   "execution_count": 3,
   "metadata": {},
   "outputs": [
    {
     "data": {
      "image/png": "[encoded data removed]",
      "text/plain": [
       "<Figure size 432x288 with 1 Axes>"
      ]
     },
     "metadata": {
      "filenames": {
       "image/png": "/Users/rinmensai/MLinKHMERpage/machine_learning/machine_learning/_build/jupyter_execute/regression_01_4_0.png"
      },
      "needs_background": "light"
     },
     "output_type": "display_data"
    }
   ],
   "source": [
    "plt.scatter(X,y,marker='x')\n",
    "plt.xlim([145,172])\n",
    "plt.ylim([50,70])\n",
    "plt.xlabel('height(cm)')\n",
    "plt.ylabel('mass(kg)')\n",
    "plt.show()"
   ]
  },
  {
   "cell_type": "markdown",
   "metadata": {},
   "source": [
    "ក្នុងតារាងខាងលើ ទិន្ន័យអំពីកម្ពស់គិតជាសង់ទីម៉ែត្រ(cm)និងម៉ាសគិតជាគីឡូក្រាម(kg)របស់មនុស្ស៩នាក់។ ពីទិន្នន័យនេះ យើងចង់សិក្សាពីទំនាក់ទំនងរវាងកម្ពស់(x)និងម៉ាស(y)។ \n",
    "នៅទីនេះយើងសន្មតថា តម្លៃម៉ាស($y$)គឺជាអនុគមន៍នៃតម្លៃកម្ពស់($x$): $y=f(x)$។ \n",
    "\n",
    "ដើម្បីងាយស្រួល ជាដំបូងយើងឧបមាថាទំនាក់ទំនងដើមរវាង $x,y$ កំណត់ដោយអនុគមន៍ដូចខាងក្រោមដែលយើងហៅថា ម៉ូឌែលលីនេអ៊ែរ (Linear Model)។\n",
    "\n",
    "$$ y=f(x)=\\beta_0+\\beta_1 x $$\n",
    "\n",
    "ក្រោមឧបមានេះទិន្នន័យដែលមានក្នុងតារាងត្រូវផ្ទៀងផ្ទាត់ទំនាក់ទំនងខាងលើនេះ។\n",
    "ប៉ុន្តែក្នុងដំណើរការវាស់វែង ឬ ស្រង់ទិន្នន័យលម្អៀងឬគម្លាតរវាងតម្លៃតាមម៉ូឌែលដែលឧបមាខាងលើនិងតម្លៃទិន្នន័យជាក់ស្តែងតែងតែកើតឡើង។ \n",
    "ហេតុនេះ យើងសិក្សាករណីដូចខាងក្រោមដែល$\\epsilon$ជាកម្រិតលម្អៀង។\n",
    "\n",
    "$$ y=\\beta_0+\\beta_1 x+\\epsilon $$\n",
    "\n",
    "ក្នុងពេលនេះទិន្នន័យដែលមានអាចសរសេរជាទំនាក់ទំនងដូចខាងក្រោម។\n",
    "\n",
    "$$ 54.58=\\beta_0+\\beta_1×152+\\epsilon , \\cdots \\cdots $$\n"
   ]
  },
  {
   "cell_type": "code",
   "execution_count": 4,
   "metadata": {},
   "outputs": [
    {
     "data": {
      "image/png": "[encoded data removed]",
      "text/plain": [
       "<Figure size 432x288 with 1 Axes>"
      ]
     },
     "metadata": {
      "filenames": {
       "image/png": "/Users/rinmensai/MLinKHMERpage/machine_learning/machine_learning/_build/jupyter_execute/regression_01_6_0.png"
      },
      "needs_background": "light"
     },
     "output_type": "display_data"
    }
   ],
   "source": [
    "xa = np.linspace(145,172,50)\n",
    "w = np.array([-22,0.50])\n",
    "plt.scatter(X,y,marker='x')\n",
    "plt.plot(xa,w[0]+w[1]*xa,'g-')\n",
    "plt.xlim([145,172])\n",
    "plt.ylim([50,70])\n",
    "plt.xlabel('height(cm)')\n",
    "plt.ylabel('mass(kg)')\n",
    "y_legend = \"y=b+ax\"\n",
    "plt.legend([y_legend,\"observed-data\"])\n",
    "plt.show()"
   ]
  },
  {
   "cell_type": "markdown",
   "metadata": {},
   "source": [
    "ជាទូទៅចំពោះទិន្នន័យចំនួន $N: \\{(x_i,y_i )\\}_{i=1}^N$ ទិន្នន័យនិមួយៗអាចបង្ហាញដោយទំនាក់ទំនងដូចខាងក្រោម។\n",
    "\n",
    "$y_i=\\beta_0+\\beta_1 x_i+\\epsilon_i   (i=1,2,…,N)$\n",
    "\n",
    "នៅទីនេះ $\\beta_0  ,\\beta_1$ ហៅថាមេគុណតម្រែតម្រង់(regression coefficient) $\\epsilon$ គឺតម្លៃលម្អៀងរវាងទិន្នន័យពីការវាស់វែងនិងតម្លៃតាមម៉ូឌែល។ \n",
    "តម្លៃនៃម៉ាស $y$ ហៅថា អថេរគោលដៅ(subjective variable)  $x$ ហៅថា អថេរពន្យល់ឬអថេរឯករាជ្យ(explanatory variable)។\n",
    "\n",
    "គោលដៅរបស់យើងនៅទីនេះគឺការកំណត់តម្លៃនៃមេគុណតម្រែតម្រង់ ដែលធ្វើអោយម៉ូឌែលដែលសន្មតខាងលើអាចបង្ហាញទំនាក់ទំនងរវាងអថេរពន្យល់និងអថេរគោលដៅបានល្អប្រសើរ។\n",
    "មានវិធីជាច្រើនដែលអាចឱ្យយើងកំណត់តម្លៃនៃមេគុណតម្រែតម្រង់ដែលល្អប្រសើរសម្រាប់ទិន្នន័យដែលមាន។ នៅក្នុងអត្ថបទនេះ យើងនឹងណែនាំអំពីវិធីសាស្រ្តងាយនិងពេញនិយម Least Square Error ។\n"
   ]
  },
  {
   "cell_type": "markdown",
   "metadata": {},
   "source": [
    "## ការប៉ាន់ស្មានតម្លៃប៉ារ៉ាម៉ែត្រដោយLeast Square Error\n",
    "\n",
    "តាមការសន្មតនៃម៉ូឌែលខាងលើ តម្លៃនៃលម្អៀងរវាងទិន្នន័យនិមួយៗនិងតម្លៃពិតតាមម៉ូឌែលអាច\n",
    "កំណត់បានដូចខាងក្រោម។\n",
    "\n",
    "$\\epsilon_i=y_i-(\\beta_0+\\beta_1 x_i )   ,(i=1,2,…,N)$\n",
    "\n",
    "ក្នុងវិធីសាស្រ្តLeast Square Error យើងសិក្សាលើផលបូកនៃការេរបស់តម្លៃលម្អៀងទាំងអស់របស់ទិន្នន័យដែលមាន ពោលគឺ $\\epsilon_1^2+\\epsilon_2^2+⋯+\\epsilon_N^2$។ គំនិតក្នុងវិធីសាស្រ្តនេះគឺងាយស្រួល។ម៉ូឌែលដែលអាចពន្យល់ទំនាក់ទំនងរវាងអថេរទាំង២បានល្អប្រសើរ អាចត្រូវបាននិយាយបានថាជាម៉ូឌែលដែលមានតម្លៃនៃកម្រិតលម្អៀងតូចបំផុត។ \n",
    "ហេតុនេះ យើងនឹងធ្វើការកំណត់តម្លៃមេគុណតម្រែតម្រង់(ប៉ារ៉ាម៉ែត្រ)ណាដែលធ្វើឱ្យតម្លៃនៃផលបូកនៃការេរបស់តម្លៃលម្អៀងទាំងអស់របស់ទិន្នន័យ $E(\\beta_0,\\beta_1 )$មានតម្លៃតូចបំផុត។\n",
    "\n",
    "$$ E(\\beta_0,\\beta_1 )=\\sum_{i=1}^{N}{\\epsilon_i^2}=\\sum_{i=1}^{N}{\\left\\{y_i-(\\beta_0+\\beta_1 x)\\right\\}^2} $$\n",
    "\n",
    "អ្នកដែលបានសិក្សាគណិតវិទ្យា អាចមើលឃើញយ៉ាងងាយថា ពេលនេះវាបានក្លាយជាបញ្ហាបរមាកម្ម លើតម្លៃ $E(\\beta_0,\\beta_1 )$ ដោយយក$\\beta_0,\\beta_1$ ជាអថេរ។ \n",
    "យើងអាចដោះស្រាយបញ្ហានេះបានដោយងាយដោយប្រើចំណេះដឹងផ្នែកវិភាគមូលដ្ឋានដូចជាដេរីវេដោយផ្នែក។\n",
    "\n",
    "នៅទីនេះ ដើម្បីមានភាពងាយស្រួលក្នុងការសិក្សាលើករណីច្រើនអថេរពន្យល់ យើងនឹងណែនាំការដោះស្រាយបញ្ហាខាងលើដោយប្រើវ៉ិចទ័រនិងម៉ាទ្រីស។\n",
    "យើងកំណត់សរសេរម៉ាទ្រីសនិងវ៉ិចទ័រដូចខាងក្រោម។ $X$ ពេលខ្លះត្រូវបានហៅថាម៉ាទ្រីសផែនការ។\n",
    "\n",
    "$$ \n",
    "X=\\begin{pmatrix}\n",
    "1 & x_1\\\\ \n",
    "\\vdots  & \\vdots\\\\ \n",
    "1 & x_N\n",
    "\\end{pmatrix}\\in \\mathbb{R}^{N\\times 2},\n",
    "\\pmb{y}=\\begin{pmatrix}\n",
    "y_1\\\\ \n",
    "\\vdots\\\\ \n",
    "y_N\n",
    "\\end{pmatrix}\\in \\mathbb{R}^{N},\n",
    "\\pmb{\\epsilon}=\\begin{pmatrix}\n",
    "\\epsilon_1\\\\ \n",
    "\\vdots\\\\ \n",
    "\\epsilon_N\n",
    "\\end{pmatrix}\\in \\mathbb{R}^{N},\n",
    "\\pmb{\\beta}=\\begin{pmatrix}\n",
    "\\beta_0\\\\ \n",
    "\\beta_1\n",
    "\\end{pmatrix}\\in \\mathbb{R}^{2}\n",
    "$$\n",
    "\n",
    "ពេលនេះម៉ូឌែលនិងផលបូកតម្លៃការេនៃលម្អៀងខាងលើអាចសរសេរដូចខាងក្រោម។\n",
    "\n",
    "$$ \\pmb{y}=X\\pmb{\\beta}+\\pmb{\\epsilon} $$\n",
    "\n",
    "$$ E(\\pmb{\\beta})=\\sum_{i=1}^{N}{\\epsilon_i^2}=(\\pmb{y}-X\\pmb{\\beta})^{\\top}(\\pmb{y}-X\\pmb{\\beta}) $$\n",
    "\n",
    "ត្រលប់ទៅកាន់បញ្ហារបស់យើងវិញ។ គោលដៅរបស់យើងគឺកំណត់តម្លៃ$\\pmb{\\beta}$ដែលធ្វើឱ្យតម្លៃនៃ $E(\\pmb{\\beta})$ តូចបំផុត។ \n",
    "នៅទីនេះដូចដែលបានឃើញស្រាប់ អនុគមន៍ $E(\\pmb{\\beta})$ ជាអនុគមន៍ប៉ោង ហេតុនេះយើងអាចកំណត់តម្លៃអប្បបរមារបស់វាបានងាយដោយគ្រាន់តែគណនាដេរីវេធៀបនឹងប៉ារ៉ាម៉ែត្រ$\\pmb{\\beta}$ដូចខាងក្រោម។\n",
    "\n",
    "$$ E(\\pmb{\\beta})=(\\pmb{y}-X\\pmb{\\beta})^\\top\\ (\\pmb{y}-X\\pmb{\\beta})=\\pmb{y}^\\top\\ \\pmb{y}-2\\pmb{y}^\\top\\ X\\pmb{\\beta}+\\pmb{\\beta}^\\top\\ X^\\top\\ X\\pmb{\\beta} $$\n",
    "\n",
    "ដោយដោះស្រាយសមីការ $\\partial/\\partial\\pmb{\\beta}\\ E(\\pmb{\\beta})=-\\mathbf{2}X^\\top\\ \\pmb{y}-\\mathbf{2}X^\\top\\ X\\pmb{\\beta}$ យើងបាន \n",
    "\n",
    "$$ \\hat{\\pmb{\\beta}}=(X^\\top X)^{-1} X^T \\pmb{y} $$\n",
    "\n",
    "ដោយជំនួសតម្លៃដែលគណនាបាននេះទៅក្នុងម៉ូឌែលដើម យើងអាចគណនាតម្លៃទស្សន៍ទាយនៃអថេរគោលដៅ $y$ នៅពេលស្គាល់តម្លៃអថេរពន្យល់ x បានដូចខាងក្រោម។\n",
    "\n",
    "$$ \\hat{\\pmb{y}}=\\pmb{x\\hat{\\beta}} $$\n",
    "\n",
    "ក្នុងករណីទិន្នន័យក្នុងតារាងទី១ខាងលើ យើងអាចទទួលបានតម្លៃនៃមេគុណតម្រែតម្រង់និងបន្ទាត់តាងម៉ូឌែលតម្រែតម្រង់លីនេអ៊ែរដូចខាងក្រោម។\n",
    "\n"
   ]
  },
  {
   "cell_type": "code",
   "execution_count": 5,
   "metadata": {},
   "outputs": [],
   "source": [
    "def fit(x,y,k):\n",
    "  X_ = np.zeros((len(x),k+1))\n",
    "  for i in range(k+1):\n",
    "    X_[:,i] = x**i\n",
    "  w = np.linalg.inv(X_.T@X_)@X_.T@y\n",
    "  return w\n",
    "\n",
    "def predict(x,w,k):\n",
    "  X_ = np.zeros((len(x),k+1))\n",
    "  for i in range(k+1):\n",
    "    X_[:,i] = x**i\n",
    "  return X_@w"
   ]
  },
  {
   "cell_type": "code",
   "execution_count": 6,
   "metadata": {},
   "outputs": [
    {
     "data": {
      "image/png": "[encoded data removed]",
      "text/plain": [
       "<Figure size 432x288 with 1 Axes>"
      ]
     },
     "metadata": {
      "filenames": {
       "image/png": "/Users/rinmensai/MLinKHMERpage/machine_learning/machine_learning/_build/jupyter_execute/regression_01_10_0.png"
      },
      "needs_background": "light"
     },
     "output_type": "display_data"
    }
   ],
   "source": [
    "w = fit(X,y,1)\n",
    "xa = np.linspace(145,172,50)\n",
    "plt.scatter(X,y,marker='x')\n",
    "plt.plot(xa,predict(xa,w,1),'r-')\n",
    "plt.xlim([145,172])\n",
    "plt.ylim([50,70])\n",
    "plt.xlabel('height(cm)')\n",
    "plt.ylabel('mass(kg)')\n",
    "y_legend = \"y=\"+str(round(w[0],3))+\"+\"+str(round(w[1],3))+\"x\"\n",
    "plt.legend([y_legend,\"observed-data\"])\n",
    "plt.show()"
   ]
  },
  {
   "cell_type": "markdown",
   "metadata": {},
   "source": [
    "## ឯករាជភាពនៃតម្លៃលម្អៀង Independence of errors\n",
    "\n",
    "យើងពិនិត្យលើទំនាក់ទំនងរវាងតម្លៃនៃលម្អៀងនិងអថេរគោលដៅនិងអថេរពន្យល់។\n",
    "បើសង្កេតលើតម្លៃនៃកូវ៉ារ្យង់រវាងតម្លៃលម្អៀង$\\epsilon\\ $និងតម្លៃទស្សន៍ទាយនៃអថេរគោលដៅ$\\hat{y} $\n",
    "ឬ តម្លៃនៃកូវ៉ារ្យង់រវាងតម្លៃលម្អៀង$\\epsilon\\$ និងតម្លៃទស្សន៍ទាយនៃអថេរពន្យល់$x$យើងបានលទ្ធផលដូចខាងក្រោម។\n",
    "\n",
    "(សម្រាយបញ្ជាក់ទុកជាលំហាត់សម្រាប់អ្នកអាន)\n",
    "\n",
    "$$Cov\\left[\\hat{y},\\hat{\\epsilon}\\right]=Cov\\left[x,\\hat{\\epsilon}\\right]=0$$\n",
    "\n",
    "លទ្ធផលនេះបង្ហាញពីឯករាជភាពនៃតម្លៃលម្អៀងដែលបង្កើតដោយម៉ូឌែលនិងតម្លៃទស្សន៍ទាយនៃអថេរគោលដៅ ឬ អថេរពន្យល់។\n",
    "\n",
    "\n"
   ]
  },
  {
   "cell_type": "markdown",
   "metadata": {},
   "source": [
    "## \tCoefficient of determination $(\\pmb{R}^\\mathbf{2})$\n",
    "\n",
    "ដើម្បីបង្ហាញពីកម្រិតនៃការពន្យល់របស់ម៉ូឌែលទៅលើទំនាក់ទំនងរវាងទិន្នន័យដែលមាន\n",
    "Coefficient of determination $(\\pmb{R}^\\mathbf{2})$ ត្រូវបានប្រើ។ \n",
    "តម្លៃ $\\pmb{R}^\\mathbf{2}$ កំណត់ដោយផលធៀបរវាង វ៉ារ្យង់នៃតម្លៃទស្សន៍ទាយរបស់អថេរគោលដៅ និង វ៉ារ្យង់នៃតម្លៃអថេរគោលដៅពិត។\n",
    "\n",
    "$$ R^2=\\frac{Var\\left[\\hat{y}\\right]}{Var\\left[y\\right]}=1-\\frac{Var\\left[\\hat{\\epsilon}\\right]}{Var\\left[y\\right]} $$\n",
    "\n",
    "តម្លៃនេះយកតម្លៃលើចន្លោះ $\\left[0,1\\right]$ ដែលតម្លៃខិតជិត១បង្ហាញពីភាពល្អប្រសើរនៃការពន្យល់របស់ម៉ូឌែលទៅលើទិន្នន័យ។\n"
   ]
  }
 ],
 "metadata": {
  "kernelspec": {
   "display_name": "Python 3",
   "language": "python",
   "name": "python3"
  },
  "language_info": {
   "codemirror_mode": {
    "name": "ipython",
    "version": 3
   },
   "file_extension": ".py",
   "mimetype": "text/x-python",
   "name": "python",
   "nbconvert_exporter": "python",
   "pygments_lexer": "ipython3",
   "version": "3.8.5"
  },
  "widgets": {
   "application/vnd.jupyter.widget-state+json": {
    "state": {},
    "version_major": 2,
    "version_minor": 0
   }
  }
 },
 "nbformat": 4,
 "nbformat_minor": 4
}